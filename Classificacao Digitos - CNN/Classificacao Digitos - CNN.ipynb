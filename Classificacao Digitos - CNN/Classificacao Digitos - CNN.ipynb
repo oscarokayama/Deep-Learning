{
 "cells": [
  {
   "cell_type": "markdown",
   "metadata": {},
   "source": [
    "# Exemplos de uso"
   ]
  },
  {
   "cell_type": "markdown",
   "metadata": {},
   "source": [
    "### Utilizando uma CNN para classificar dígitos escritos manualmente"
   ]
  },
  {
   "cell_type": "markdown",
   "metadata": {},
   "source": [
    "Rede Neural Convolucional para obter uma melhor acurácia do que utilizando apenas Keras."
   ]
  },
  {
   "cell_type": "markdown",
   "metadata": {},
   "source": [
    "***Importando numpy para definer semente para o número randomico.***"
   ]
  },
  {
   "cell_type": "code",
   "execution_count": 1,
   "metadata": {},
   "outputs": [],
   "source": [
    "from numpy.random import seed"
   ]
  },
  {
   "cell_type": "markdown",
   "metadata": {},
   "source": [
    "***Definindo semente e importando biblioteca do tensorflow para definir semente.***"
   ]
  },
  {
   "cell_type": "code",
   "execution_count": 2,
   "metadata": {},
   "outputs": [],
   "source": [
    "import tensorflow\n",
    "\n",
    "seed(1)\n",
    "\n",
    "tensorflow.random.set_seed(1)"
   ]
  },
  {
   "cell_type": "markdown",
   "metadata": {},
   "source": [
    "***Importando bibliotecas Keras***"
   ]
  },
  {
   "cell_type": "code",
   "execution_count": 3,
   "metadata": {},
   "outputs": [
    {
     "name": "stderr",
     "output_type": "stream",
     "text": [
      "Using TensorFlow backend.\n"
     ]
    }
   ],
   "source": [
    "from keras.datasets import mnist\n",
    "from keras.models import Sequential\n",
    "from keras.layers import Dense, Activation\n",
    "from keras.layers import Convolution2D, MaxPooling2D\n",
    "from keras.layers import Flatten\n",
    "\n",
    "from keras.utils import np_utils"
   ]
  },
  {
   "cell_type": "markdown",
   "metadata": {},
   "source": [
    "***Carregando dados de teste e treinamento***"
   ]
  },
  {
   "cell_type": "code",
   "execution_count": 4,
   "metadata": {},
   "outputs": [],
   "source": [
    "(X_train, Y_train), (X_test, Y_test) = mnist.load_data()"
   ]
  },
  {
   "cell_type": "markdown",
   "metadata": {},
   "source": [
    "É necessário que os dados sejam ajustados a fim de permitir sua utilização. \n",
    "\n",
    "X_train contém 60.000 imagens de 28x28 pixels e X_test contém 10.000."
   ]
  },
  {
   "cell_type": "markdown",
   "metadata": {},
   "source": [
    "***Ajustando os dados para fragmentos de 28x28***"
   ]
  },
  {
   "cell_type": "code",
   "execution_count": 5,
   "metadata": {},
   "outputs": [],
   "source": [
    "X_train = X_train.reshape(60000, 28, 28, 1)\n",
    "X_test = X_test.reshape(10000, 28, 28, 1)\n",
    "\n",
    "Y_train = np_utils.to_categorical(Y_train, 10)\n",
    "Y_test = np_utils.to_categorical(Y_test, 10)"
   ]
  },
  {
   "cell_type": "markdown",
   "metadata": {},
   "source": [
    "Definindo o modelo da rede, que será duas camadas convolucionais, uma camada de agrupamento do tipo max pooling, e duas camadas totalmente conectadas. \n",
    "\n",
    "Além disso, é necessário utilizar uma Flatten entre a camada de agrupamento e a camada totalmente conectada, pois essa espera receber uma entrada unidimensional e a saída da camada convolucional é tridimensional:"
   ]
  },
  {
   "cell_type": "markdown",
   "metadata": {},
   "source": [
    "***Definindo camadas no modelo de rede***"
   ]
  },
  {
   "cell_type": "code",
   "execution_count": 6,
   "metadata": {},
   "outputs": [
    {
     "name": "stdout",
     "output_type": "stream",
     "text": [
      "Model: \"sequential_1\"\n",
      "_________________________________________________________________\n",
      "Layer (type)                 Output Shape              Param #   \n",
      "=================================================================\n",
      "conv2d_1 (Conv2D)            (None, 26, 26, 32)        320       \n",
      "_________________________________________________________________\n",
      "activation_1 (Activation)    (None, 26, 26, 32)        0         \n",
      "_________________________________________________________________\n",
      "conv2d_2 (Conv2D)            (None, 24, 24, 32)        9248      \n",
      "_________________________________________________________________\n",
      "activation_2 (Activation)    (None, 24, 24, 32)        0         \n",
      "_________________________________________________________________\n",
      "max_pooling2d_1 (MaxPooling2 (None, 12, 12, 32)        0         \n",
      "_________________________________________________________________\n",
      "flatten_1 (Flatten)          (None, 4608)              0         \n",
      "_________________________________________________________________\n",
      "dense_1 (Dense)              (None, 64)                294976    \n",
      "_________________________________________________________________\n",
      "activation_3 (Activation)    (None, 64)                0         \n",
      "_________________________________________________________________\n",
      "dense_2 (Dense)              (None, 10)                650       \n",
      "_________________________________________________________________\n",
      "activation_4 (Activation)    (None, 10)                0         \n",
      "=================================================================\n",
      "Total params: 305,194\n",
      "Trainable params: 305,194\n",
      "Non-trainable params: 0\n",
      "_________________________________________________________________\n",
      "None\n"
     ]
    }
   ],
   "source": [
    "model = Sequential([\n",
    "    # Primeira camada convolucional\n",
    "    Convolution2D(filters=32,\n",
    "    kernel_size=(3, 3),\n",
    "    input_shape=(28, 28, 1)),\n",
    "    Activation('relu'),\n",
    "\n",
    "    # Segunda camada convolucional\n",
    "    Convolution2D(filters=32,\n",
    "    kernel_size=(3, 3)),\n",
    "    Activation('relu'),\n",
    "\n",
    "    # Camada de agrupamento (Max pooling)\n",
    "    MaxPooling2D(pool_size=(2, 2)),\n",
    "\n",
    "    # Transformando o tensor em unidimensional\n",
    "    Flatten(),\n",
    "\n",
    "    #Camada oculta totalmente conectada\n",
    "    Dense(64),\n",
    "    Activation('relu'),\n",
    "\n",
    "    # Camada de saída\n",
    "    Dense(10),\n",
    "    Activation('softmax')\n",
    "])\n",
    "\n",
    "print(model.summary())"
   ]
  },
  {
   "cell_type": "markdown",
   "metadata": {},
   "source": [
    "Em seguida, será definido o otimizador. Ao invés do Gradiente Descendente Estocástico (SGD), utilizaremos o ADADELTA, que automaticamente definirá uma taxa de aprendizado maior ou menor de forma inversamente proporcional ao gradiente:"
   ]
  },
  {
   "cell_type": "markdown",
   "metadata": {},
   "source": [
    "***Compilando o modelo com otimização em ADADELTA***"
   ]
  },
  {
   "cell_type": "code",
   "execution_count": 7,
   "metadata": {},
   "outputs": [],
   "source": [
    "model.compile(loss='categorical_crossentropy', metrics=['accuracy'], optimizer='adadelta')"
   ]
  },
  {
   "cell_type": "markdown",
   "metadata": {},
   "source": [
    "***Treinando o modelo***"
   ]
  },
  {
   "cell_type": "code",
   "execution_count": 8,
   "metadata": {
    "scrolled": true
   },
   "outputs": [
    {
     "name": "stdout",
     "output_type": "stream",
     "text": [
      "Train on 54000 samples, validate on 6000 samples\n",
      "Epoch 1/5\n",
      "54000/54000 [==============================] - 41s 762us/step - loss: 0.5327 - accuracy: 0.9329 - val_loss: 0.0743 - val_accuracy: 0.9770\n",
      "Epoch 2/5\n",
      "54000/54000 [==============================] - 39s 728us/step - loss: 0.0560 - accuracy: 0.9830 - val_loss: 0.0570 - val_accuracy: 0.9848\n",
      "Epoch 3/5\n",
      "54000/54000 [==============================] - 37s 684us/step - loss: 0.0288 - accuracy: 0.9916 - val_loss: 0.0433 - val_accuracy: 0.9880\n",
      "Epoch 4/5\n",
      "54000/54000 [==============================] - 35s 642us/step - loss: 0.0165 - accuracy: 0.9948 - val_loss: 0.0426 - val_accuracy: 0.9895\n",
      "Epoch 5/5\n",
      "54000/54000 [==============================] - 36s 670us/step - loss: 0.0085 - accuracy: 0.9971 - val_loss: 0.0562 - val_accuracy: 0.9892\n"
     ]
    },
    {
     "data": {
      "text/plain": [
       "<keras.callbacks.callbacks.History at 0x1de64a43d88>"
      ]
     },
     "execution_count": 8,
     "metadata": {},
     "output_type": "execute_result"
    }
   ],
   "source": [
    "model.fit(X_train, Y_train, batch_size=100, epochs=5, validation_split=0.1, verbose=1)"
   ]
  },
  {
   "cell_type": "markdown",
   "metadata": {},
   "source": [
    "***Testando a rede***"
   ]
  },
  {
   "cell_type": "code",
   "execution_count": 9,
   "metadata": {},
   "outputs": [
    {
     "name": "stdout",
     "output_type": "stream",
     "text": [
      "10000/10000 [==============================] - 20s 2ms/step\n",
      "Test accuracy: 0.988099992275238\n"
     ]
    }
   ],
   "source": [
    "score = model.evaluate(X_test, Y_test, verbose=1)\n",
    "print('Test accuracy:', score[1])"
   ]
  },
  {
   "cell_type": "markdown",
   "metadata": {},
   "source": [
    "Foi obtida uma acurácia de 98,5% utilizando este modelo, contra 96% de acurácia utilizando uma Rede Neural simples."
   ]
  }
 ],
 "metadata": {
  "kernelspec": {
   "display_name": "Python 3",
   "language": "python",
   "name": "python3"
  },
  "language_info": {
   "codemirror_mode": {
    "name": "ipython",
    "version": 3
   },
   "file_extension": ".py",
   "mimetype": "text/x-python",
   "name": "python",
   "nbconvert_exporter": "python",
   "pygments_lexer": "ipython3",
   "version": "3.7.6"
  }
 },
 "nbformat": 4,
 "nbformat_minor": 4
}
