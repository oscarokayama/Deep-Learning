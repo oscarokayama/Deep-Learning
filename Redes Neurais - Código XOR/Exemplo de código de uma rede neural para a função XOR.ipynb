{
 "cells": [
  {
   "cell_type": "markdown",
   "metadata": {},
   "source": [
    "# Exemplos de uso"
   ]
  },
  {
   "cell_type": "markdown",
   "metadata": {},
   "source": [
    "### Código de uma rede neural para a função XOR"
   ]
  },
  {
   "cell_type": "markdown",
   "metadata": {},
   "source": [
    "Vamos criar uma rede simples com uma camada oculta, que resolve a função XOR. A função XOR é um problema linearmente inseparável, daí a necessidade de uma camada oculta. \n",
    "\n",
    "O código-fonte permitirá modificar facilmente o número de camadas e o número de neurônios por camada, para podermos experimentar vários cenários diferentes. Não usaremos nenhuma biblioteca ML. Em vez disso, vamos implementá-los do zero apenas com a ajuda de numpy. Também usaremos o matplotlib para visualizar os resultados."
   ]
  },
  {
   "cell_type": "markdown",
   "metadata": {},
   "source": [
    "***Importando biblioteca numpy e matplotlib***"
   ]
  },
  {
   "cell_type": "code",
   "execution_count": 1,
   "metadata": {},
   "outputs": [],
   "source": [
    "import numpy\n",
    "from matplotlib.colors import ListedColormap\n",
    "import matplotlib.pyplot as plt"
   ]
  },
  {
   "cell_type": "markdown",
   "metadata": {},
   "source": [
    "***Definição da função tanh***"
   ]
  },
  {
   "cell_type": "markdown",
   "metadata": {},
   "source": [
    "Em seguida, vamos definir nossa função de ativação e sua derivada (usaremos a função tanh(x) neste exemplo):"
   ]
  },
  {
   "cell_type": "code",
   "execution_count": 2,
   "metadata": {},
   "outputs": [],
   "source": [
    "def tanh(x):\n",
    "    return (1.0 - numpy.exp(-2*x))/(1.0 + numpy.exp(-2*x))\n",
    "\n",
    "def tanh_derivative(x):\n",
    "    return (1 + x)*(1 - x)"
   ]
  },
  {
   "cell_type": "markdown",
   "metadata": {},
   "source": [
    "***Classe de uma Rede Neural***"
   ]
  },
  {
   "cell_type": "markdown",
   "metadata": {},
   "source": [
    "Em seguida, iniciamos a definição da classe NeuralNetwork: class NeuralNetwork: "
   ]
  },
  {
   "cell_type": "code",
   "execution_count": 3,
   "metadata": {
    "scrolled": false
   },
   "outputs": [],
   "source": [
    "\"\"\"\n",
    "Definimos o inicializador __init__ da NeuralNetwork: net_arch é uma matriz unidimensional que contém o número de \n",
    "neurônios para cada camada. Por exemplo [2, 4 e 1] significa uma camada de entrada com dois neurônios, uma camada \n",
    "oculta com quatro neurônios e uma camada de saída com um neurônio. Como estamos estudando a função XOR, a camada \n",
    "de entrada terá dois neurônios e a camada de saída terá apenas um neurônio. \n",
    "\n",
    "Também definimos a função de ativação como tangente hiperbólica e, em seguida, definiremos sua derivada. \n",
    "\n",
    "Por fim, inicializamos os pesos da rede com valores aleatórios no intervalo (-1, 1), conforme demonstrado no seguinte \n",
    "bloco de código: # net_arch consiste em uma lista de números inteiros, indicando o número de neurônios em cada camada.\n",
    "\"\"\"\n",
    "\n",
    "class NeuralNetwork:\n",
    "    # net_arch consiste em uma lista de números inteiros, indicando \n",
    "    # o número de neurônios em cada camada\n",
    "    def __init__(self, net_arch):\n",
    "        self.activation_func = tanh\n",
    "        self.activation_derivative = tanh_derivative\n",
    "        self.layers = len(net_arch)\n",
    "        self.steps_per_epoch = 1000\n",
    "        self.net_arch = net_arch\n",
    "\n",
    "        # inicialize os pesos com valores aleatórios no intervalo (-1,1)\n",
    "        self.weights = []\n",
    "        for layer in range(len(net_arch) - 1):\n",
    "            w = 2 * numpy.random.rand(net_arch[layer] + 1, net_arch[layer + 1]) - 1\n",
    "            self.weights.append(w)\n",
    "\n",
    "            \n",
    "    \"\"\"\n",
    "    Precisamos definir a função de ajuste, que treinará nossa rede. \n",
    "\n",
    "    Primeiro, adicionamos 1 aos dados de entrada (o neurônio de viés sempre ativo) e configuramos o código para imprimir \n",
    "    o resultado no final de cada época para acompanhar o progresso. \n",
    "\n",
    "    Na última linha, nn representa a classe NeuralNetwork e prever é a função na classe NeuralNetwork que definiremos \n",
    "    mais adiante.\n",
    "\n",
    "    Selecionamos uma amostra aleatória do conjunto de treinamento e a propagamos pela rede, para que possamos calcular \n",
    "    o erro entre a saída da rede e os dados de destino: sample = numpy.random.randint (data.shape [0])\n",
    "\n",
    "    Agora que temos o erro, podemos propagá-lo para trás, para atualizar os pesos. Usaremos a descida do gradiente \n",
    "    estocástico para atualizar os pesos (ou seja, vamos atualizar os pesos após cada etapa)\n",
    "    \"\"\"\n",
    "    def fit(self, data, labels, learning_rate=0.1, epochs=10):\n",
    "        \"\"\"\n",
    "        : param data: data é o conjunto de todos os pares possíveis de booleanos\n",
    "                      Verdadeiro ou Falso indicado pelos números inteiros 1 ou 0\n",
    "                      labels é o resultado da operação lógica 'xor'\n",
    "                      em cada um desses pares de entrada\n",
    "        : param labels: array de 0/1 para cada dado\n",
    "\n",
    "        \"\"\"\n",
    "\n",
    "        # Adicione bias de polarização à camada de entrada\n",
    "        ones = numpy.ones((1, data.shape[0]))\n",
    "        Z = numpy.concatenate((ones.T, data), axis=1)\n",
    "        training = epochs * self.steps_per_epoch\n",
    "        for k in range(training):\n",
    "            \"\"\"\n",
    "            if k % self.steps_per_epoch == 0:\n",
    "                for s in data:\n",
    "                    print(s, nn.predict(s))\n",
    "            \"\"\"\n",
    "            sample = numpy.random.randint(data.shape[0])\n",
    "            y = [Z[sample]]\n",
    "\n",
    "            for i in range(len(self.weights) - 1):\n",
    "                activation = numpy.dot(y[i], self.weights[i])\n",
    "                activation_f = self.activation_func(activation)\n",
    "                # Adicione o bias para cada proxima camada\n",
    "                activation_f = numpy.concatenate((numpy.ones(1), numpy.array(activation_f)))\n",
    "                y.append(activation_f)\n",
    "\n",
    "            # Ultima Camada\n",
    "            activation = numpy.dot(y[-1], self.weights[-1])\n",
    "            activation_f = self.activation_func(activation)\n",
    "            y.append(activation_f)\n",
    "\n",
    "            # Erro para a camada de saída\n",
    "            error = labels[sample] - y[-1]\n",
    "            delta_vec = [error * self.activation_derivative(y[-1])]\n",
    "\n",
    "            # precisamos começar de trás, da próxima para a última camada\n",
    "            for i in range(self.layers - 2, 0, -1):\n",
    "                error = delta_vec[-1].dot(self.weights[i][1:].T)\n",
    "                error = error * self.activation_derivative(y[i][1:])\n",
    "                delta_vec.append(error)\n",
    "\n",
    "            # Reverso\n",
    "            # [level3(saida)->level2(oculta)]  => [level2(oculta)->level3(saida)]\n",
    "            delta_vec.reverse()\n",
    "\n",
    "            # backpropagation\n",
    "            # 1. Multiplique seu delta de saída e ativação de entrada\n",
    "            # para obter o gradiente do peso.\n",
    "            # 2. Subtraia uma proporção (porcentagem) do gradiente do peso\n",
    "            for i in range(len(self.weights)):\n",
    "                layer = y[i].reshape(1, nn.net_arch[i] + 1)\n",
    "\n",
    "                delta = delta_vec[i].reshape(1, nn.net_arch[i + 1])\n",
    "                self.weights[i] += learning_rate * layer.T.dot(delta)\n",
    "\n",
    "    \"\"\"\n",
    "    Isso conclui a fase de treinamento da rede. Agora, escreveremos uma função de previsão para verificar os resultados, \n",
    "    que retornam a saída da rede.\n",
    "    \"\"\"\n",
    "    def predict(self, x):\n",
    "        val = numpy.concatenate((numpy.ones(1).T, numpy.array(x)))\n",
    "        for i in range(0, len(self.weights)):\n",
    "            val = self.activation_func(numpy.dot(val, self.weights[i]))\n",
    "            val = numpy.concatenate((numpy.ones(1).T, numpy.array(val)))\n",
    "\n",
    "        return val[1]\n",
    "\n",
    "    \"\"\"\n",
    "    Por fim, escreveremos uma função que plota as linhas que separam as classes, com base nas variáveis de entrada \n",
    "    (veremos os gráficos no final da seção).\n",
    "    \"\"\"\n",
    "    def plot_decision_regions(self, X, y, points=200):\n",
    "        markers = ('o', '^')\n",
    "        colors = ('red', 'blue')\n",
    "        cmap = ListedColormap(colors)\n",
    "\n",
    "        x1_min, x1_max = X[:, 0].min() - 1, X[:, 0].max() + 1\n",
    "        x2_min, x2_max = X[:, 1].min() - 1, X[:, 1].max() + 1\n",
    "\n",
    "        # Para produzir figuras com menos zoom, você pode substituir as 2 linhas anteriores por:\n",
    "        # x1_min, x1_max = -10, 11\n",
    "        # x2_min, x2_max = -10, 11\n",
    "\n",
    "        resolution = max(x1_max - x1_min, x2_max - x2_min) / float(points)\n",
    "\n",
    "        xx1, xx2 = numpy.meshgrid(numpy.arange(x1_min,\n",
    "                                               x1_max,\n",
    "                                               resolution),\n",
    "                                  numpy.arange(x2_min, x2_max, resolution))\n",
    "        input = numpy.array([xx1.ravel(), xx2.ravel()]).T\n",
    "        Z = numpy.empty(0)\n",
    "        for i in range(input.shape[0]):\n",
    "            val = nn.predict(numpy.array(input[i]))\n",
    "            if val < 0.5:\n",
    "                val = 0\n",
    "            if val >= 0.5:\n",
    "                val = 1\n",
    "            Z = numpy.append(Z, val)\n",
    "\n",
    "        Z = Z.reshape(xx1.shape)\n",
    "\n",
    "        plt.pcolormesh(xx1, xx2, Z, cmap=cmap)\n",
    "        plt.xlim(xx1.min(), xx1.max())\n",
    "        plt.ylim(xx2.min(), xx2.max())\n",
    "        # Plotando todos os exemplos\n",
    "\n",
    "        classes = [\"False\", \"True\"]\n",
    "\n",
    "        for idx, cl in enumerate(numpy.unique(y)):\n",
    "            plt.scatter(x=X[y == cl, 0],\n",
    "                        y=X[y == cl, 1],\n",
    "                        alpha=1.0,\n",
    "                        c=colors[idx],\n",
    "                        edgecolors='black',\n",
    "                        marker=markers[idx],\n",
    "                        s=80,\n",
    "                        label=classes[idx])\n",
    "\n",
    "        plt.xlabel('x-axis')\n",
    "        plt.ylabel('y-axis')\n",
    "        plt.legend(loc='upper left')\n",
    "        plt.show()"
   ]
  },
  {
   "cell_type": "markdown",
   "metadata": {},
   "source": [
    "***Inicializando a rede neural com 1 camada de entrada, 1 camada ocultas e 1 camada de saida.***"
   ]
  },
  {
   "cell_type": "markdown",
   "metadata": {},
   "source": [
    "Agora podemos verificar se essa rede neural pode realmente aprender a regra XOR."
   ]
  },
  {
   "cell_type": "code",
   "execution_count": 7,
   "metadata": {},
   "outputs": [
    {
     "name": "stdout",
     "output_type": "stream",
     "text": [
      "Predicao final\n",
      "[0 0] 0.0009296871611377208\n",
      "[0 1] 0.9821431088314394\n",
      "[1 0] 0.9813761491260627\n",
      "[1 1] 0.0004265964494063455\n"
     ]
    },
    {
     "data": {
      "image/png": "[encoded data removed]",
      "text/plain": [
       "<Figure size 432x288 with 1 Axes>"
      ]
     },
     "metadata": {
      "needs_background": "light"
     },
     "output_type": "display_data"
    }
   ],
   "source": [
    "numpy.random.seed(0)\n",
    "X = numpy.array([[0, 0],\n",
    "                 [0, 1],\n",
    "                 [1, 0],\n",
    "                 [1, 1]])\n",
    "\n",
    "y = numpy.array([0, 1, 1, 0])\n",
    "\n",
    "# Inicializando a rede neural com 2 neuronios de entrada, 2 neuronios na camada oculta e 1 neuronio na saida. \n",
    "nn = NeuralNetwork([2, 2, 1])\n",
    "nn.fit(X, y, epochs=10)\n",
    "\n",
    "print(\"Predicao final\")\n",
    "for s in X:\n",
    "    print(s, nn.predict(s))\n",
    "\n",
    "nn.plot_decision_regions(X, y)"
   ]
  },
  {
   "cell_type": "markdown",
   "metadata": {},
   "source": [
    "***Inicializando a rede neural com 1 camada de entrada, 2 camadas ocultas e 1 camada de saida.***"
   ]
  },
  {
   "cell_type": "markdown",
   "metadata": {},
   "source": [
    "Neste exemplo, ([2,4,3,1]) representará uma rede neural de três camadas, com quatro neurônios na primeira camada oculta e três neurônios na segunda camada oculta, e a sua escolha fornecerá a seguinte figura:"
   ]
  },
  {
   "cell_type": "code",
   "execution_count": 10,
   "metadata": {},
   "outputs": [
    {
     "name": "stdout",
     "output_type": "stream",
     "text": [
      "Predicao final\n",
      "[0 0] 0.00026933090141420795\n",
      "[0 1] 0.9894134677309471\n",
      "[1 0] 0.981967865426528\n",
      "[1 1] 0.0005857344542498744\n"
     ]
    },
    {
     "data": {
      "image/png": "[encoded data removed]",
      "text/plain": [
       "<Figure size 432x288 with 1 Axes>"
      ]
     },
     "metadata": {
      "needs_background": "light"
     },
     "output_type": "display_data"
    }
   ],
   "source": [
    "numpy.random.seed(0)\n",
    "X = numpy.array([[0, 0],\n",
    "                 [0, 1],\n",
    "                 [1, 0],\n",
    "                 [1, 1]])\n",
    "\n",
    "y = numpy.array([0, 1, 1, 0])\n",
    "\n",
    "# Inicializando a rede neural com 2 neuronios de entrada, 2 neuronios na camada oculta e 1 neuronio na saida. \n",
    "nn = NeuralNetwork([2, 4, 3, 1])\n",
    "nn.fit(X, y, epochs=10)\n",
    "\n",
    "print(\"Predicao final\")\n",
    "for s in X:\n",
    "    print(s, nn.predict(s))\n",
    "\n",
    "nn.plot_decision_regions(X, y)"
   ]
  },
  {
   "cell_type": "markdown",
   "metadata": {},
   "source": [
    "***Inicializando a rede neural com 1 camada de entrada, 1 camada oculta e 1 camada de saida.***"
   ]
  },
  {
   "cell_type": "markdown",
   "metadata": {},
   "source": [
    "Neste exemplo, vamos definir nossa rede como ([2,4,1])"
   ]
  },
  {
   "cell_type": "code",
   "execution_count": 11,
   "metadata": {},
   "outputs": [
    {
     "name": "stdout",
     "output_type": "stream",
     "text": [
      "Predicao final\n",
      "[0 0] 5.665803375067655e-06\n",
      "[0 1] 0.9801104327685772\n",
      "[1 0] 0.9797223435751025\n",
      "[1 1] 0.00047111636733535776\n"
     ]
    },
    {
     "data": {
      "image/png": "[encoded data removed]",
      "text/plain": [
       "<Figure size 432x288 with 1 Axes>"
      ]
     },
     "metadata": {
      "needs_background": "light"
     },
     "output_type": "display_data"
    }
   ],
   "source": [
    "numpy.random.seed(0)\n",
    "X = numpy.array([[0, 0],\n",
    "                 [0, 1],\n",
    "                 [1, 0],\n",
    "                 [1, 1]])\n",
    "\n",
    "y = numpy.array([0, 1, 1, 0])\n",
    "\n",
    "# Inicializando a rede neural com 2 neuronios de entrada, 2 neuronios na camada oculta e 1 neuronio na saida. \n",
    "nn = NeuralNetwork([2, 4, 1])\n",
    "nn.fit(X, y, epochs=10)\n",
    "\n",
    "print(\"Predicao final\")\n",
    "for s in X:\n",
    "    print(s, nn.predict(s))\n",
    "\n",
    "nn.plot_decision_regions(X, y)"
   ]
  },
  {
   "cell_type": "markdown",
   "metadata": {},
   "source": [
    "***Conclusão***"
   ]
  },
  {
   "cell_type": "markdown",
   "metadata": {},
   "source": [
    "Arquiteturas de redes neurais diferentes (por exemplo, implementar uma rede com um número diferente de neurônios na camada oculta ou com mais de apenas uma camada oculta) podem produzir uma região de separação diferente."
   ]
  }
 ],
 "metadata": {
  "kernelspec": {
   "display_name": "Python 3",
   "language": "python",
   "name": "python3"
  },
  "language_info": {
   "codemirror_mode": {
    "name": "ipython",
    "version": 3
   },
   "file_extension": ".py",
   "mimetype": "text/x-python",
   "name": "python",
   "nbconvert_exporter": "python",
   "pygments_lexer": "ipython3",
   "version": "3.7.6"
  }
 },
 "nbformat": 4,
 "nbformat_minor": 4
}
